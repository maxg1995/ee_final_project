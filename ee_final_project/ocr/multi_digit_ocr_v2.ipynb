{
 "cells": [
  {
   "cell_type": "markdown",
   "metadata": {
    "id": "CTFTFoU30i6I"
   },
   "source": [
    "# MNIST OCR Model\n",
    "##### Taken from [here](https://towardsdatascience.com/handwritten-digit-mnist-pytorch-977b5338e627)\n",
    "##### This multi-digit mnist ocr uses our original MNIST classifier model on multi digit images that we split into single digit images and classify seperately. In order to use this notebook, train the model in [this](https://colab.research.google.com/drive/15_s6DFZJZFFgFvhzl0Xkm7-uGurq288N?usp=sharing#) notebook, save it, and load it in here."
   ]
  },
  {
   "cell_type": "markdown",
   "metadata": {
    "id": "N0qZeBwc2vwi"
   },
   "source": [
    "## Initial setup"
   ]
  },
  {
   "cell_type": "code",
   "execution_count": 2,
   "metadata": {},
   "outputs": [],
   "source": [
    "num_of_digits = 3\n",
    "dataset_path = \"../../data\""
   ]
  },
  {
   "cell_type": "code",
   "execution_count": 3,
   "metadata": {
    "colab": {
     "base_uri": "https://localhost:8080/"
    },
    "executionInfo": {
     "elapsed": 7263,
     "status": "ok",
     "timestamp": 1671002470033,
     "user": {
      "displayName": "Raz Oren",
      "userId": "12395684464361782065"
     },
     "user_tz": -120
    },
    "id": "M7ZL43nbtW-P",
    "outputId": "80e7c2b1-8b86-49cf-b7dd-5014fc91d061"
   },
   "outputs": [],
   "source": [
    "# imports and utils\n",
    "%matplotlib inline\n",
    "%config InlineBackend.figure_format = 'retina'\n",
    "\n",
    "import os\n",
    "\n",
    "import matplotlib.pyplot as plt\n",
    "import numpy as np\n",
    "import torch\n",
    "from torch import nn, optim\n",
    "\n",
    "import torchvision\n",
    "from torchvision import datasets, transforms\n",
    "\n",
    "\n",
    "device = torch.device('cuda' if torch.cuda.is_available() else 'cpu')\n",
    "\n",
    "def view_classify(img, ps):\n",
    "    ''' Function for viewing an image and it's predicted classes.'''\n",
    "    ps = ps.data.numpy().squeeze()\n",
    "\n",
    "    fig, (ax1, ax2) = plt.subplots(figsize=(6,9), ncols=2)\n",
    "    ax1.imshow(img.resize_(1, 28, 28).numpy().squeeze())\n",
    "    ax1.axis('off')\n",
    "    ax2.barh(np.arange(10), ps)\n",
    "    ax2.set_aspect(0.1)\n",
    "    ax2.set_yticks(np.arange(10))\n",
    "    ax2.set_yticklabels(np.arange(10))\n",
    "    ax2.set_title('Class Probability')\n",
    "    ax2.set_xlim(0, 1.1)\n",
    "    plt.tight_layout()"
   ]
  },
  {
   "cell_type": "markdown",
   "metadata": {
    "id": "ssrlWo5BoVlW"
   },
   "source": [
    "## Load Multi-Digit Dataset"
   ]
  },
  {
   "cell_type": "code",
   "execution_count": 4,
   "metadata": {
    "id": "ZgvFVBMet8yK"
   },
   "outputs": [],
   "source": [
    "train_data = torch.load(f'{dataset_path}/{num_of_digits}_digit_model/mnist_{num_of_digits}_digit_train_data')\n",
    "test_data = torch.load(f'{dataset_path}/{num_of_digits}_digit_model/mnist_{num_of_digits}_digit_test_data')"
   ]
  },
  {
   "cell_type": "code",
   "execution_count": null,
   "metadata": {
    "id": "9fIEZSqDxSkN"
   },
   "outputs": [],
   "source": [
    "# Visualize the Data Set\n",
    "fig2, axes = plt.subplots(3,3)\n",
    "fig2.tight_layout()\n",
    "for i in range(9):\n",
    "  sub = axes[int(i/3), i%3]\n",
    "  sub.imshow(train_data[i][0][0], cmap='gray', interpolation='none')\n",
    "  sub.set_title(\"Ground Truth: {}\".format(train_data[i][1])) \n",
    "  sub.set_xticks([])\n",
    "  sub.set_yticks([])"
   ]
  },
  {
   "cell_type": "code",
   "execution_count": null,
   "metadata": {
    "id": "B0vKJRY1PeKM"
   },
   "outputs": [],
   "source": [
    "trainloader = torch.utils.data.DataLoader(train_data, batch_size=64, shuffle=True)\n",
    "valloader = torch.utils.data.DataLoader(test_data, batch_size=64, shuffle=True)"
   ]
  },
  {
   "cell_type": "markdown",
   "metadata": {
    "id": "NDKiEedb1ClW"
   },
   "source": [
    "## Load OCR model - start here if you want to load an existing model\n"
   ]
  },
  {
   "cell_type": "code",
   "execution_count": null,
   "metadata": {
    "id": "3EG-0F3t1GD1"
   },
   "outputs": [],
   "source": [
    "# Load model\n",
    "model = torch.load('gdrive/My Drive/mnist/mnist_ocr_model')"
   ]
  },
  {
   "cell_type": "markdown",
   "metadata": {
    "id": "n1F5iVF01zv5"
   },
   "source": [
    "## Evaluate the model"
   ]
  },
  {
   "cell_type": "code",
   "execution_count": null,
   "metadata": {
    "id": "6qgv7aXTEPnh"
   },
   "outputs": [],
   "source": [
    "def OCR(num_digits: int, valloader):\n",
    "  images, labels = next(iter(valloader))\n",
    "  \n",
    "  figure = plt.figure()\n",
    "  plt.axis('off')\n",
    "  plt.imshow(images[0].numpy().squeeze(), cmap='gray_r')\n",
    "\n",
    "  # Split the n-digit image into n same equal parts\n",
    "  for i in range(num_digits):\n",
    "    img = images[0].view(28, 28 * num_digits)\n",
    "    single_digit = img[:, (i)*28:(i+1)*28]\n",
    "    single_digit_reshaped = single_digit.reshape(1, 28*28)\n",
    "\n",
    "    # Turn off gradients to speed up this part\n",
    "    with torch.no_grad():\n",
    "        logps = model(single_digit_reshaped)\n",
    "\n",
    "    # Output of the network are log-probabilities, need to take exponential for probabilities\n",
    "    ps = torch.exp(logps)\n",
    "    probab = list(ps.numpy()[0])\n",
    "    print(\"Predicted Digit =\", probab.index(max(probab)))\n",
    "    view_classify(single_digit_reshaped.view(1, 28, 28), ps)"
   ]
  },
  {
   "cell_type": "code",
   "execution_count": null,
   "metadata": {
    "colab": {
     "base_uri": "https://localhost:8080/",
     "height": 519
    },
    "executionInfo": {
     "elapsed": 697,
     "status": "error",
     "timestamp": 1671003103108,
     "user": {
      "displayName": "Raz Oren",
      "userId": "12395684464361782065"
     },
     "user_tz": -120
    },
    "id": "uDK-xII-FZfV",
    "outputId": "c74e9197-bdc2-4233-a45e-70b9690dafbe"
   },
   "outputs": [],
   "source": [
    "OCR(num_digits=4, valloader=valloader)"
   ]
  }
 ],
 "metadata": {
  "colab": {
   "collapsed_sections": [
    "N0qZeBwc2vwi"
   ],
   "provenance": []
  },
  "kernelspec": {
   "display_name": "Python 3 (ipykernel)",
   "language": "python",
   "name": "python3"
  },
  "language_info": {
   "codemirror_mode": {
    "name": "ipython",
    "version": 3
   },
   "file_extension": ".py",
   "mimetype": "text/x-python",
   "name": "python",
   "nbconvert_exporter": "python",
   "pygments_lexer": "ipython3",
   "version": "3.10.8"
  },
  "vscode": {
   "interpreter": {
    "hash": "fefe1979a54cd850ace18103d723ed14cc89bf755d214f067925c02e20fa6c27"
   }
  }
 },
 "nbformat": 4,
 "nbformat_minor": 1
}
