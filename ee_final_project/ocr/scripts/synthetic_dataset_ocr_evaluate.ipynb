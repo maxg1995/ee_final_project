{
 "cells": [
  {
   "cell_type": "markdown",
   "id": "4a4c2716",
   "metadata": {},
   "source": [
    "# Synthetic Dataset Evaluator"
   ]
  },
  {
   "cell_type": "code",
   "execution_count": null,
   "id": "9d272436",
   "metadata": {},
   "outputs": [],
   "source": [
    "num_of_digits = 3\n",
    "dataset_path = '../../data'\n",
    "samples_path = f'{dataset_path}/{num_of_digits}_digit_model'"
   ]
  },
  {
   "cell_type": "code",
   "execution_count": null,
   "id": "9dccee90",
   "metadata": {},
   "outputs": [],
   "source": [
    "# imports and utils\n",
    "%matplotlib inline\n",
    "%config InlineBackend.figure_format = 'retina'\n",
    "\n",
    "import os\n",
    "from time import time\n",
    "\n",
    "import matplotlib.pyplot as plt\n",
    "import numpy as np\n",
    "import torch\n",
    "from torch import nn, optim\n",
    "\n",
    "import torchvision\n",
    "from torchvision import datasets, transforms\n",
    "from torchvision.datasets import ImageFolder"
   ]
  },
  {
   "cell_type": "code",
   "execution_count": null,
   "id": "22d6b960",
   "metadata": {},
   "outputs": [],
   "source": [
    "model = torch.load(f'{dataset_path}/mnist_ocr_model')"
   ]
  },
  {
   "cell_type": "code",
   "execution_count": null,
   "id": "1d2a21d3",
   "metadata": {},
   "outputs": [],
   "source": [
    "transform = transforms.Compose(\n",
    "    [transforms.ToTensor(),\n",
    "     transforms.Normalize(mean=(0.5), std=(0.5))])\n",
    "\n",
    "train_dataset = ImageFolder(\n",
    "    root=samples_path,\n",
    "    transform=transform\n",
    ")\n",
    "train_loader = torch.utils.data.DataLoader(\n",
    "    train_dataset,\n",
    "    batch_size=200,\n",
    "    num_workers=1,\n",
    "    shuffle=True\n",
    ")"
   ]
  },
  {
   "cell_type": "code",
   "execution_count": null,
   "id": "73e863cd",
   "metadata": {},
   "outputs": [],
   "source": [
    "def imshow(img, title: str):\n",
    "    plt.figure()\n",
    "    img = img / 2 + 0.5     # unnormalize\n",
    "    npimg = img.numpy()\n",
    "    plt.imshow(np.transpose(npimg, (1, 2, 0)))\n",
    "    plt.axis('off')\n",
    "    plt.title(title)\n",
    "    \n",
    "def OCR(num_digits: int, valloader):\n",
    "    images, _ = next(iter(valloader))\n",
    "    \n",
    "    for image in images:        \n",
    "        # Split the n-digit image into n same equal parts\n",
    "        res = ''\n",
    "        for i in range(num_digits):\n",
    "            img = image[0, :, :].view(28, 28 * num_digits)\n",
    "            single_digit = img[:, (i)*28:(i+1)*28]\n",
    "            single_digit_reshaped = single_digit.reshape(1, 28*28)\n",
    "\n",
    "            # Turn off gradients to speed up this part\n",
    "            with torch.no_grad():\n",
    "                logps = model(single_digit_reshaped)\n",
    "\n",
    "            # Output of the network are log-probabilities, need to take exponential for probabilities\n",
    "            ps = torch.exp(logps)\n",
    "            probab = list(ps.numpy()[0])\n",
    "            res += str(probab.index(max(probab)))\n",
    "        imshow(image, title=f\"Predicted Number: {res}\")"
   ]
  },
  {
   "cell_type": "code",
   "execution_count": null,
   "id": "0f843b22",
   "metadata": {},
   "outputs": [],
   "source": [
    "OCR(num_digits=num_of_digits, valloader=train_loader)"
   ]
  }
 ],
 "metadata": {
  "kernelspec": {
   "display_name": "Python 3 (ipykernel)",
   "language": "python",
   "name": "python3"
  },
  "language_info": {
   "codemirror_mode": {
    "name": "ipython",
    "version": 3
   },
   "file_extension": ".py",
   "mimetype": "text/x-python",
   "name": "python",
   "nbconvert_exporter": "python",
   "pygments_lexer": "ipython3",
   "version": "3.10.8"
  }
 },
 "nbformat": 4,
 "nbformat_minor": 5
}
