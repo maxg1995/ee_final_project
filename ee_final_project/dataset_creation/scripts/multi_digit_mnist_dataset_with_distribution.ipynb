{
 "cells": [
  {
   "cell_type": "markdown",
   "id": "78143284",
   "metadata": {},
   "source": [
    "# Multi Digit MNIST Dataset with Distribution"
   ]
  },
  {
   "cell_type": "code",
   "execution_count": 24,
   "id": "89ece24c",
   "metadata": {},
   "outputs": [],
   "source": [
    "import asyncio\n",
    "import random\n",
    "\n",
    "import matplotlib.pyplot as plt\n",
    "import torch\n",
    "import torchvision\n",
    "from torch.utils.data import DataLoader, Dataset\n",
    "from torchvision import datasets, transforms\n",
    "\n",
    "num_of_digits = 4\n",
    "train_imgs_to_gen = 120000 # 960000 1920000\n",
    "test_img_to_gen = 30000 # 240000 480000\n",
    "distribution='uniform'\n",
    "\n",
    "dataset_path = \"../../data\""
   ]
  },
  {
   "cell_type": "code",
   "execution_count": 25,
   "id": "268226fa",
   "metadata": {},
   "outputs": [],
   "source": [
    "def generate_numbers_with_distribution(num_of_digits: int, size_of_dataset: int, distribution: str):\n",
    "    dataset = []\n",
    "    \n",
    "    if distribution == \"uniform\":\n",
    "        for _ in range(size_of_dataset):\n",
    "            number = \"\".join(random.choices('0123456789', k=num_of_digits))\n",
    "            dataset.append(int(number))\n",
    "    \n",
    "    elif distribution == \"normal\":\n",
    "        mean = 10**(num_of_digits-1)\n",
    "        std_dev = mean // 10\n",
    "        \n",
    "        for _ in range(size_of_dataset):\n",
    "            number = max(0, int(random.normalvariate(mean, std_dev)))\n",
    "            dataset.append(number)\n",
    "    \n",
    "    return dataset"
   ]
  },
  {
   "cell_type": "code",
   "execution_count": 26,
   "id": "aee9c10d",
   "metadata": {},
   "outputs": [],
   "source": [
    "class MNISTNumberGenerator:\n",
    "    def __init__(self, training: bool):\n",
    "        self.training = training\n",
    "        self.transform = transforms.Compose(\n",
    "            [\n",
    "                torchvision.transforms.ToTensor(),\n",
    "                torchvision.transforms.Normalize((0.5,), (0.5,)),\n",
    "            ]\n",
    "        )\n",
    "        self.data_loaders = self.get_split_dataset_by_class()\n",
    "\n",
    "    def get_split_dataset_by_class(self):\n",
    "        '''Creates a data loader for each digit'''\n",
    "        split_data_loaders: list[DataLoader] = []\n",
    "        for digit in range(10):\n",
    "            dataset = datasets.MNIST(\n",
    "                dataset_path,\n",
    "                train=self.training,\n",
    "                download=True,\n",
    "                transform=self.transform,\n",
    "            )\n",
    "            idx = dataset.targets == digit # Get a list of indices where the label matches the given digit \n",
    "            dataset.targets = dataset.targets[idx] # Remove all indices that don't match the given digit\n",
    "            dataset.data = dataset.data[idx] # Get the data from the indices where the label matches the given digit\n",
    "            split_data_loaders.append(\n",
    "                DataLoader(\n",
    "                    dataset,\n",
    "                    batch_size=1,\n",
    "                    shuffle=True,\n",
    "                )\n",
    "            ) # Create a DataLoader using the data that's left\n",
    "\n",
    "        return split_data_loaders\n",
    "\n",
    "    async def create_mnist_image_from_number(self, number: int):\n",
    "        digits = [int(digit) for digit in str(number)] # Convert the number to a list containing it's digits\n",
    "        while len(digits) < num_of_digits:\n",
    "            digits.insert(0, 0)\n",
    "        images = [\n",
    "            next(iter(self.data_loaders[digit]))[0] for digit in digits\n",
    "        ] # Choose a random image from the single digit data loader for each digit\n",
    "        image = torch.cat(images, dim=3)[0][0] # Combine the images for each single digit\n",
    "        label = str(number)\n",
    "        while len(label) < num_of_digits:\n",
    "            label = '0' + label\n",
    "        return (image, label)\n",
    "\n",
    "    def show_image(self, image: torch.Tensor, label: str):\n",
    "        fig = plt.imshow(image, cmap=\"gray\", interpolation=\"none\")\n",
    "        plt.title(label)\n",
    "        fig.axes.get_xaxis().set_visible(False)\n",
    "        fig.axes.get_yaxis().set_visible(False)\n",
    "        \n",
    "        \n",
    "class MNISTNumbersDataset(Dataset):\n",
    "    def __init__(self, numbers_list: list[int], data_with_labels: list[tuple[torch.Tensor, str]]):\n",
    "        self.numbers_list = numbers_list\n",
    "        self.data_with_labels = data_with_labels\n",
    "\n",
    "    def __len__(self):\n",
    "        return len(self.numbers_list)\n",
    "\n",
    "    def __getitem__(self, idx):\n",
    "        image = self.data_with_labels[idx][0]\n",
    "        label = self.data_with_labels[idx][1]\n",
    "        return image, label"
   ]
  },
  {
   "cell_type": "code",
   "execution_count": 27,
   "id": "558bc765",
   "metadata": {},
   "outputs": [],
   "source": [
    "# Create the data sets\n",
    "\n",
    "training_numbers = generate_numbers_with_distribution(num_of_digits=num_of_digits, size_of_dataset=train_imgs_to_gen, distribution=distribution)\n",
    "training_generator = MNISTNumberGenerator(training=True)\n",
    "training_results = await asyncio.gather(*map(training_generator.create_mnist_image_from_number, training_numbers))\n",
    "training_dataset = MNISTNumbersDataset(numbers_list=training_numbers, data_with_labels=training_results)\n",
    "\n",
    "test_numbers = generate_numbers_with_distribution(num_of_digits=num_of_digits, size_of_dataset=test_img_to_gen, distribution=distribution)\n",
    "test_generator = MNISTNumberGenerator(training=False)\n",
    "test_results = await asyncio.gather(*map(test_generator.create_mnist_image_from_number, test_numbers))\n",
    "test_dataset = MNISTNumbersDataset(numbers_list=test_numbers, data_with_labels=test_results)"
   ]
  },
  {
   "cell_type": "code",
   "execution_count": null,
   "id": "69c78bbf",
   "metadata": {},
   "outputs": [],
   "source": [
    "# Visualize the distribution of numbers\n",
    "\n",
    "plt.hist(test_numbers, bins=10**num_of_digits, edgecolor='black')\n",
    "plt.xlabel('Numbers')\n",
    "plt.ylabel('Frequency')\n",
    "plt.title('Histogram of Numbers')\n",
    "plt.show()"
   ]
  },
  {
   "cell_type": "code",
   "execution_count": 28,
   "id": "b7c98cce",
   "metadata": {},
   "outputs": [
    {
     "data": {
      "image/png": "[encoded data removed]",
      "text/plain": [
       "<Figure size 640x480 with 1 Axes>"
      ]
     },
     "metadata": {},
     "output_type": "display_data"
    }
   ],
   "source": [
    "# Visualize the dataset\n",
    "# Each time this cell is run, a random image from the dataset will be displayed along with it's label\n",
    "\n",
    "i = random.randint(0, len(test_results) - 1)\n",
    "test_generator.show_image(test_results[i][0], test_results[i][1])"
   ]
  },
  {
   "cell_type": "code",
   "execution_count": 30,
   "id": "2e1dec08",
   "metadata": {},
   "outputs": [],
   "source": [
    "torch.save(training_dataset, f'{dataset_path}/{num_of_digits}_digit_model/mnist_{num_of_digits}_digit_{distribution}_distribution_train_data')\n",
    "torch.save(training_dataset, f'{dataset_path}/{num_of_digits}_digit_model/mnist_{num_of_digits}_digit_{distribution}_distribution_test_data')"
   ]
  },
  {
   "cell_type": "code",
   "execution_count": null,
   "id": "a7b3a19f",
   "metadata": {},
   "outputs": [],
   "source": [
    "training_dataset = torch.load(f'{dataset_path}/{num_of_digits}_digit_model/mnist_{num_of_digits}_digit_{distribution}_distribution_train_data')\n",
    "training_dataset = torch.load(f'{dataset_path}/{num_of_digits}_digit_model/mnist_{num_of_digits}_{distribution}_distribution_digit_test_data')"
   ]
  }
 ],
 "metadata": {
  "kernelspec": {
   "display_name": "Python 3 (ipykernel)",
   "language": "python",
   "name": "python3"
  },
  "language_info": {
   "codemirror_mode": {
    "name": "ipython",
    "version": 3
   },
   "file_extension": ".py",
   "mimetype": "text/x-python",
   "name": "python",
   "nbconvert_exporter": "python",
   "pygments_lexer": "ipython3",
   "version": "3.10.11"
  }
 },
 "nbformat": 4,
 "nbformat_minor": 5
}
