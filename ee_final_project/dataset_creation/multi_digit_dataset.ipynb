{
 "cells": [
  {
   "cell_type": "markdown",
   "metadata": {},
   "source": [
    "## Create Multi-Digit Dataset\n",
    "##### Only do this if really necessary because it takes a really long time to create a big enough data set. Otherwise, just load the pre made data set. "
   ]
  },
  {
   "cell_type": "code",
   "execution_count": null,
   "metadata": {},
   "outputs": [],
   "source": [
    "import matplotlib.pyplot as plt\n",
    "import torch\n",
    "import torchvision\n",
    "from torchvision import datasets, transforms"
   ]
  },
  {
   "cell_type": "code",
   "execution_count": null,
   "metadata": {},
   "outputs": [],
   "source": [
    "num_of_digits = 3\n",
    "train_imgs_to_gen = 120000 # 960000 1920000\n",
    "test_img_to_gen = 30000 # 240000 480000\n",
    "random_seed = 1\n",
    "\n",
    "dataset_path = \"../../data\""
   ]
  },
  {
   "cell_type": "code",
   "execution_count": null,
   "metadata": {},
   "outputs": [],
   "source": [
    "class NumberDataset(torchvision.datasets.MNIST):\n",
    "    def __init__(\n",
    "        self,\n",
    "        num_to_generate=120000,\n",
    "        num_of_digits=1,\n",
    "        im_width=28,\n",
    "        im_height=28,\n",
    "        train=True,\n",
    "        download=True,\n",
    "        dataset_path=\"\",\n",
    "    ):\n",
    "        \"\"\"\n",
    "        Args :\n",
    "          num_of_digits (int) : the number of digits in each number\n",
    "          im_width (int) : the width of a single digit image\n",
    "          im_height (int) : the height of a single digit image\n",
    "          train (bool) : if True create the images from the training set\n",
    "          download (bool) : if True downloads the dataset from the internet and puts it in root directory. If dataset is already downloaded, it is not downloaded again.\n",
    "        \"\"\"\n",
    "\n",
    "        self.transform = transforms.Compose(\n",
    "            [\n",
    "                torchvision.transforms.ToTensor(),\n",
    "                torchvision.transforms.Normalize((0.5,), (0.5,)),\n",
    "            ]\n",
    "        )\n",
    "        self.data = torch.utils.data.DataLoader(\n",
    "            datasets.MNIST(\n",
    "                dataset_path, train=train, download=download, transform=self.transform\n",
    "            ),\n",
    "            batch_size=num_of_digits,\n",
    "            shuffle=True,\n",
    "        )\n",
    "\n",
    "        self.res = []\n",
    "\n",
    "        for i in range(num_to_generate):\n",
    "            if (i % 1000) == 0 and i != 0:\n",
    "                print(\"Done {} numbers\".format(i))\n",
    "            digits, vals = next(iter(self.data))\n",
    "            target = 0\n",
    "            image = torch.transpose(\n",
    "                torch.reshape(\n",
    "                    torch.transpose(digits, 2, 3),\n",
    "                    (1, num_of_digits * im_width, im_height),\n",
    "                ),\n",
    "                1,\n",
    "                2,\n",
    "            )\n",
    "            for j in range(num_of_digits):\n",
    "                target = target + vals[j] * pow(10, num_of_digits - 1 - j)\n",
    "            self.res.append((image, target))\n"
   ]
  },
  {
   "cell_type": "code",
   "execution_count": null,
   "metadata": {},
   "outputs": [],
   "source": [
    "torch.backends.cudnn.enabled = False\n",
    "torch.manual_seed(random_seed)\n",
    "\n",
    "train_data = NumberDataset(num_to_generate=train_imgs_to_gen, num_of_digits=num_of_digits, dataset_path=dataset_path).res\n",
    "print(f\"Done proccessing training set, got {len(train_data)} numbers\")\n",
    "\n",
    "test_data = NumberDataset(num_to_generate=test_img_to_gen, num_of_digits=num_of_digits, dataset_path=dataset_path, train=False).res\n",
    "print(f\"Done proccessing test set, got {len(test_data)} numbers\")\n",
    "\n",
    "fig2, axes = plt.subplots(3,3)\n",
    "fig2.tight_layout()\n",
    "for i in range(9):\n",
    "  sub = axes[int(i/3), i%3]\n",
    "  sub.imshow(train_data[i][0][0], cmap='gray', interpolation='none')\n",
    "  sub.set_title(\"Ground Truth: {}\".format(train_data[i][1])) \n",
    "  sub.set_xticks([])\n",
    "  sub.set_yticks([])"
   ]
  },
  {
   "cell_type": "code",
   "execution_count": null,
   "metadata": {},
   "outputs": [],
   "source": [
    "torch.save(train_data, f'{dataset_path}/{num_of_digits}_digit_model/mnist_{num_of_digits}_digit_train_data')\n",
    "torch.save(test_data, f'{dataset_path}/{num_of_digits}_digit_model/mnist_{num_of_digits}_digit_test_data')"
   ]
  },
  {
   "cell_type": "code",
   "execution_count": null,
   "metadata": {},
   "outputs": [],
   "source": []
  }
 ],
 "metadata": {
  "kernelspec": {
   "display_name": "pytorch",
   "language": "python",
   "name": "python3"
  },
  "language_info": {
   "codemirror_mode": {
    "name": "ipython",
    "version": 3
   },
   "file_extension": ".py",
   "mimetype": "text/x-python",
   "name": "python",
   "nbconvert_exporter": "python",
   "pygments_lexer": "ipython3",
   "version": "3.10.8"
  },
  "orig_nbformat": 4,
  "vscode": {
   "interpreter": {
    "hash": "fefe1979a54cd850ace18103d723ed14cc89bf755d214f067925c02e20fa6c27"
   }
  }
 },
 "nbformat": 4,
 "nbformat_minor": 2
}
